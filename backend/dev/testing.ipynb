{
 "cells": [
  {
   "cell_type": "code",
   "execution_count": 1,
   "id": "e293096d-2459-43b9-8acf-f9c8ccea5ce4",
   "metadata": {},
   "outputs": [],
   "source": [
    "import requests\n",
    "import hashlib\n",
    "from pprint import pprint"
   ]
  },
  {
   "cell_type": "code",
   "execution_count": 2,
   "id": "7a914754-08d5-4e1c-8d41-76b09b9b29cc",
   "metadata": {},
   "outputs": [],
   "source": [
    "URL = \"http://127.0.0.1:8000/api/v1\""
   ]
  },
  {
   "cell_type": "markdown",
   "id": "66f9354f-6d46-4c1b-8425-6b7d4706f6ba",
   "metadata": {},
   "source": [
    "# App endpoints"
   ]
  },
  {
   "cell_type": "code",
   "execution_count": 4,
   "id": "3d9ea12f-ef4f-4778-9165-5f0c722bab9a",
   "metadata": {},
   "outputs": [
    {
     "name": "stdout",
     "output_type": "stream",
     "text": [
      "{'user_id': 1, 'user_type': 'user'}\n"
     ]
    }
   ],
   "source": [
    "try:\n",
    "    login = \"user1\"\n",
    "    password = \"user1\"\n",
    "    hashed_password = hashlib.sha256(password.encode()).hexdigest()\n",
    "    json = {\"login\": login, \"hashed_password\": hashed_password}\n",
    "    response = requests.post(f\"{URL}/app/login\", json=json)\n",
    "    response.raise_for_status()\n",
    "    data = response.json()\n",
    "    pprint(data)\n",
    "except Exception as e:\n",
    "    print(e)"
   ]
  },
  {
   "cell_type": "code",
   "execution_count": 8,
   "id": "e8d50fe5-75a1-42c4-9cc3-36ddd990a551",
   "metadata": {},
   "outputs": [
    {
     "name": "stdout",
     "output_type": "stream",
     "text": [
      "500 Server Error: Internal Server Error for url: http://127.0.0.1:8000/api/v1/app/sign_up\n"
     ]
    }
   ],
   "source": [
    "try:\n",
    "    login = \"user100\"\n",
    "    password = \"user100\"\n",
    "    hashed_password = hashlib.sha256(password.encode()).hexdigest()\n",
    "    json = {\"login\": login, \"hashed_password\": hashed_password}\n",
    "    response = requests.post(f\"{URL}/app/sign_up\", json=json)\n",
    "    response.raise_for_status()\n",
    "    data = response.json()\n",
    "    pprint(data)\n",
    "except Exception as e:\n",
    "    print(e)"
   ]
  },
  {
   "cell_type": "markdown",
   "id": "2d73d2f6-f88c-4c4b-a944-253f2f109ba4",
   "metadata": {},
   "source": [
    "# User endpoints"
   ]
  },
  {
   "cell_type": "code",
   "execution_count": 30,
   "id": "91b61b8e-8e72-4f15-a029-55a8bc67517b",
   "metadata": {},
   "outputs": [
    {
     "name": "stdout",
     "output_type": "stream",
     "text": [
      "[{'id': 17,\n",
      "  'item_id': 3,\n",
      "  'item_name': 'Предмет_3',\n",
      "  'quantity': 9,\n",
      "  'status': 'новый'},\n",
      " {'id': 40,\n",
      "  'item_id': 4,\n",
      "  'item_name': 'Предмет_4',\n",
      "  'quantity': 5,\n",
      "  'status': 'используемый'},\n",
      " {'id': 41,\n",
      "  'item_id': 5,\n",
      "  'item_name': 'Предмет_5',\n",
      "  'quantity': 4,\n",
      "  'status': 'используемый'},\n",
      " {'id': 35,\n",
      "  'item_id': 8,\n",
      "  'item_name': 'Предмет_8',\n",
      "  'quantity': 6,\n",
      "  'status': 'используемый'},\n",
      " {'id': 25,\n",
      "  'item_id': 9,\n",
      "  'item_name': 'Предмет_9',\n",
      "  'quantity': 3,\n",
      "  'status': 'новый'}]\n"
     ]
    }
   ],
   "source": [
    "try:\n",
    "    response = requests.get(f\"{URL}/users/1/inventory\")\n",
    "    response.raise_for_status()\n",
    "    data = response.json()\n",
    "    pprint(data)\n",
    "except Exception as e:\n",
    "    print(e)"
   ]
  },
  {
   "cell_type": "code",
   "execution_count": 27,
   "id": "958ff013-4f90-4098-b02f-b61d596eb833",
   "metadata": {},
   "outputs": [
    {
     "name": "stdout",
     "output_type": "stream",
     "text": [
      "[{'id': 1, 'item_id': 6, 'quantity': 25, 'status': 'сломанный'},\n",
      " {'id': 2, 'item_id': 10, 'quantity': 29, 'status': 'новый'},\n",
      " {'id': 3, 'item_id': 5, 'quantity': 58, 'status': 'новый'},\n",
      " {'id': 4, 'item_id': 10, 'quantity': 84, 'status': 'используемый'},\n",
      " {'id': 5, 'item_id': 9, 'quantity': 8, 'status': 'новый'},\n",
      " {'id': 6, 'item_id': 8, 'quantity': 85, 'status': 'новый'},\n",
      " {'id': 7, 'item_id': 4, 'quantity': 28, 'status': 'используемый'},\n",
      " {'id': 8, 'item_id': 1, 'quantity': 44, 'status': 'сломанный'},\n",
      " {'id': 9, 'item_id': 7, 'quantity': 72, 'status': 'сломанный'},\n",
      " {'id': 10, 'item_id': 9, 'quantity': 9, 'status': 'используемый'},\n",
      " {'id': 11, 'item_id': 4, 'quantity': 30, 'status': 'сломанный'},\n",
      " {'id': 12, 'item_id': 4, 'quantity': 96, 'status': 'новый'},\n",
      " {'id': 13, 'item_id': 2, 'quantity': 94, 'status': 'сломанный'},\n",
      " {'id': 14, 'item_id': 8, 'quantity': 83, 'status': 'используемый'},\n",
      " {'id': 15, 'item_id': 7, 'quantity': 68, 'status': 'новый'},\n",
      " {'id': 16, 'item_id': 3, 'quantity': 57, 'status': 'используемый'},\n",
      " {'id': 17, 'item_id': 10, 'quantity': 78, 'status': 'сломанный'},\n",
      " {'id': 18, 'item_id': 7, 'quantity': 28, 'status': 'используемый'},\n",
      " {'id': 19, 'item_id': 1, 'quantity': 21, 'status': 'новый'},\n",
      " {'id': 20, 'item_id': 6, 'quantity': 41, 'status': 'используемый'},\n",
      " {'id': 21, 'item_id': 3, 'quantity': 24, 'status': 'сломанный'}]\n"
     ]
    }
   ],
   "source": [
    "try:\n",
    "    response = requests.get(f\"{URL}/app/inventory\")\n",
    "    response.raise_for_status()\n",
    "    data = response.json()\n",
    "    pprint(data)\n",
    "except Exception as e:\n",
    "    print(e)"
   ]
  },
  {
   "cell_type": "code",
   "execution_count": 32,
   "id": "6de5088b-3f7b-4977-8e12-1c32858f50c0",
   "metadata": {},
   "outputs": [
    {
     "name": "stdout",
     "output_type": "stream",
     "text": [
      "400 Client Error: Bad Request for url: http://127.0.0.1:8000/api/v1/users/1/requests\n"
     ]
    }
   ],
   "source": [
    "try:\n",
    "    json = {\"action\": \"заменить\", \"item_id\": 1, \"quantity\": 1}\n",
    "    response = requests.post(f\"{URL}/users/1/requests/make\", json=json)\n",
    "    response.raise_for_status()\n",
    "    data = response.json()\n",
    "    pprint(data)\n",
    "except Exception as e:\n",
    "    print(e)"
   ]
  },
  {
   "cell_type": "code",
   "execution_count": 34,
   "id": "deed5f5b-f7ab-4f27-9380-737551ea03e2",
   "metadata": {},
   "outputs": [
    {
     "name": "stdout",
     "output_type": "stream",
     "text": [
      "[{'created_at': '2024-11-01T19:11:57',\n",
      "  'id': 7,\n",
      "  'item_id': 3,\n",
      "  'quantity': 2,\n",
      "  'request_type': 'получить',\n",
      "  'status': 'на рассмотрении',\n",
      "  'updated_at': '2024-11-24T19:11:57',\n",
      "  'user_id': 1},\n",
      " {'created_at': '2024-11-02T19:11:57',\n",
      "  'id': 13,\n",
      "  'item_id': 6,\n",
      "  'quantity': 3,\n",
      "  'request_type': 'заменить',\n",
      "  'status': 'отклонено',\n",
      "  'updated_at': '2024-12-16T19:11:57',\n",
      "  'user_id': 1},\n",
      " {'created_at': '2024-12-08T19:11:57',\n",
      "  'id': 24,\n",
      "  'item_id': 2,\n",
      "  'quantity': 6,\n",
      "  'request_type': 'отремонтировать',\n",
      "  'status': 'отклонено',\n",
      "  'updated_at': '2024-11-22T19:11:57',\n",
      "  'user_id': 1},\n",
      " {'created_at': '2025-01-09T19:11:57',\n",
      "  'id': 40,\n",
      "  'item_id': 3,\n",
      "  'quantity': 4,\n",
      "  'request_type': 'заменить',\n",
      "  'status': 'на рассмотрении',\n",
      "  'updated_at': '2024-11-07T19:11:57',\n",
      "  'user_id': 1},\n",
      " {'created_at': '2025-01-10T21:26:27.502607',\n",
      "  'id': 51,\n",
      "  'item_id': 1,\n",
      "  'quantity': 1,\n",
      "  'request_type': 'заменить',\n",
      "  'status': 'на рассмотрении',\n",
      "  'updated_at': '2025-01-10T21:26:27.502607',\n",
      "  'user_id': 1}]\n"
     ]
    }
   ],
   "source": [
    "try:\n",
    "    response = requests.get(f\"{URL}/users/1/requests/show\")\n",
    "    response.raise_for_status()\n",
    "    data = response.json()\n",
    "    pprint(data)\n",
    "except Exception as e:\n",
    "    print(e)"
   ]
  },
  {
   "cell_type": "markdown",
   "id": "f87c82b8-b64e-4e6a-ba16-0b7838afad3c",
   "metadata": {},
   "source": [
    "# Admin endpoints"
   ]
  },
  {
   "cell_type": "code",
   "execution_count": 11,
   "id": "9693ee68-aa68-4c47-b21d-89a80dd93b6d",
   "metadata": {},
   "outputs": [
    {
     "name": "stdout",
     "output_type": "stream",
     "text": [
      "None\n"
     ]
    }
   ],
   "source": [
    "try:\n",
    "    login = \"user100\"\n",
    "    password = \"user100\"\n",
    "    hashed_password = hashlib.sha256(password.encode()).hexdigest()\n",
    "    json = {\"login\": login, \"hashed_password\": hashed_password, \"user_type\": \"user\"}\n",
    "    response = requests.post(f\"{URL}/admins/add_user\", json=json)\n",
    "    response.raise_for_status()\n",
    "    data = response.json()\n",
    "    pprint(data)\n",
    "except Exception as e:\n",
    "    print(e)"
   ]
  },
  {
   "cell_type": "code",
   "execution_count": 18,
   "id": "274fed0a-0a81-4e1a-a384-9b5e4f88c889",
   "metadata": {},
   "outputs": [
    {
     "name": "stdout",
     "output_type": "stream",
     "text": [
      "{'data': {'id': 24, 'item_id': 11, 'quantity': 1, 'status': 'новый'},\n",
      " 'message': 'Новая позиция добавлена'}\n"
     ]
    }
   ],
   "source": [
    "try:\n",
    "    json = {\"item_id\": 11, \"quantity\": 1}\n",
    "    response = requests.post(f\"{URL}/admins/inventory/extend\", json=json)\n",
    "    response.raise_for_status()\n",
    "    data = response.json()\n",
    "    pprint(data)\n",
    "except Exception as e:\n",
    "    print(e)"
   ]
  },
  {
   "cell_type": "code",
   "execution_count": 19,
   "id": "0326b286-6724-4f6a-9d91-23771f10207a",
   "metadata": {},
   "outputs": [
    {
     "name": "stdout",
     "output_type": "stream",
     "text": [
      "{'message': 'Инвентарь успешно обновлен'}\n"
     ]
    }
   ],
   "source": [
    "try:\n",
    "    json = {\"inventory_id\": 5, \"new_quantity\": 3, \"new_status\": \"используемый\"}\n",
    "    response = requests.put(f\"{URL}/admins/inventory/edit_status\", json=json)\n",
    "    response.raise_for_status()\n",
    "    data = response.json()\n",
    "    pprint(data)\n",
    "except Exception as e:\n",
    "    print(e)"
   ]
  },
  {
   "cell_type": "code",
   "execution_count": 23,
   "id": "0bca29d9-2029-4615-8a12-e5b05c0e11e1",
   "metadata": {},
   "outputs": [
    {
     "name": "stdout",
     "output_type": "stream",
     "text": [
      "{'message': 'Запись успешно удалена'}\n"
     ]
    }
   ],
   "source": [
    "try:\n",
    "    json = {\"inventory_id\": 5, \"new_quantity\": 0}\n",
    "    response = requests.put(f\"{URL}/admins/inventory/edit_quantity\", json=json)\n",
    "    response.raise_for_status()\n",
    "    data = response.json()\n",
    "    pprint(data)\n",
    "except Exception as e:\n",
    "    print(e)"
   ]
  },
  {
   "cell_type": "code",
   "execution_count": 27,
   "id": "3e977e52-d439-4447-b2ad-bad1656636eb",
   "metadata": {},
   "outputs": [
    {
     "name": "stdout",
     "output_type": "stream",
     "text": [
      "{'message': 'Инвентарь успешно закреплен за пользователем'}\n"
     ]
    }
   ],
   "source": [
    "try:\n",
    "    json = {\"inventory_id\": 3, \"user_id\": 2, \"quantity\": 25}\n",
    "    response = requests.post(f\"{URL}/admins/inventory/assign\", json=json)\n",
    "    response.raise_for_status()\n",
    "    data = response.json()\n",
    "    pprint(data)\n",
    "except Exception as e:\n",
    "    print(e)"
   ]
  },
  {
   "cell_type": "code",
   "execution_count": 30,
   "id": "60980bb9-82ee-4696-b574-52c5cc10335e",
   "metadata": {},
   "outputs": [
    {
     "name": "stdout",
     "output_type": "stream",
     "text": [
      "{'message': 'Заявка успешно обработана'}\n"
     ]
    }
   ],
   "source": [
    "try:\n",
    "    json = {\"request_id\": 6, \"response\": \"одобрено\"}\n",
    "    response = requests.post(f\"{URL}/admins/requests/process\", json=json)\n",
    "    response.raise_for_status()\n",
    "    data = response.json()\n",
    "    pprint(data)\n",
    "except Exception as e:\n",
    "    print(e)"
   ]
  },
  {
   "cell_type": "code",
   "execution_count": null,
   "id": "be6e8856-7fcb-4cf0-bf99-c839edac310b",
   "metadata": {},
   "outputs": [],
   "source": []
  }
 ],
 "metadata": {
  "kernelspec": {
   "display_name": "Python 3 (ipykernel)",
   "language": "python",
   "name": "python3"
  },
  "language_info": {
   "codemirror_mode": {
    "name": "ipython",
    "version": 3
   },
   "file_extension": ".py",
   "mimetype": "text/x-python",
   "name": "python",
   "nbconvert_exporter": "python",
   "pygments_lexer": "ipython3",
   "version": "3.12.5"
  }
 },
 "nbformat": 4,
 "nbformat_minor": 5
}
